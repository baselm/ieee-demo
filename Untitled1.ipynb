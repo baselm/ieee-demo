{
 "cells": [
  {
   "cell_type": "code",
   "execution_count": 11,
   "metadata": {},
   "outputs": [],
   "source": [
    "import requests\n",
    "import gym\n",
    "from gym import error, spaces, utils\n",
    "from gym.utils import seeding\n",
    "import numpy as np \n",
    "\n",
    "\n",
    "\n",
    "class FooEnv(gym.Env):\n",
    "    metadata = {'render.modes': ['human']}\n",
    "    def __init__(self):\n",
    "        self.cpu_axis  = self.get_cpu_observation()\n",
    "        self.mem_axis = self.get_mem_observation()\n",
    "        self.disk_axis = self.get_disk_observation()\n",
    "        self.net_axis  = self.get_net_observation()\n",
    "        self.action_space = spaces.Discrete(5)\n",
    "        high = np.array([\n",
    "            self.cpu_axis,\n",
    "            self.mem_axis,\n",
    "            self.disk_axis,\n",
    "            self.net_axis])\n",
    "        \n",
    "        self.observation_space = spaces.Box(-high, high, dtype=np.float32)\n",
    "        self.seed()\n",
    "        self.viewer = None\n",
    "        self.state = None\n",
    "        self.steps_beyond_done = None\n",
    "        \n",
    "    def seed(self, seed=None):\n",
    "        self.np_random, seed = seeding.np_random(seed)\n",
    "        return [seed]\n",
    "    \n",
    "    def step(self, action):\n",
    "        assert self.action_space.contains(action), \"%r (%s) invalid\"%(action, type(action))\n",
    "        state = self.state\n",
    "        past_stat = self.state\n",
    "        #cpu_axis, mem_axis, disk_axis, net_axis = state\n",
    "        if action == -1:\n",
    "            print(\"Scale Down Move to State S1\")\n",
    "            #Reward = max of utility fitness \n",
    "            current_state = get_current_stat()\n",
    "            reward= current_state - past_stat\n",
    "            done= False \n",
    "            info = \"Scale Down Move to State S1\"\n",
    "        elif action == 0:\n",
    "            print(\"Stay in State S0\")\n",
    "            current_state = self.get_current_stat()\n",
    "            reward= current_state - past_stat\n",
    "            done= True \n",
    "            info = \"Stay in State S0\"\n",
    "        elif action == 1: \n",
    "            print(\"Scale Service UP S2\")\n",
    "            current_state = self.get_current_stat()\n",
    "            reward= current_state - past_stat\n",
    "            done= False \n",
    "            info = \"Stay in State S0\"\n",
    "        elif action == 2: \n",
    "            print(\"Remove Node S3\")\n",
    "            current_state = selfget_current_stat()\n",
    "            reward= current_state - past_stat\n",
    "            done= False\n",
    "            info = \"Remove Node S3\"\n",
    "        elif action == 3: \n",
    "            print(\"Mantain Cluster State S0\")\n",
    "            current_state = get_current_stat()\n",
    "            reward= current_state - past_stat\n",
    "            done= False\n",
    "            info = \"Mantain Cluster State S0\"\n",
    "        elif action == 4: \n",
    "            print(\"Add Node S4\")\n",
    "            current_state = get_current_stat()\n",
    "            reward= current_state - past_stat\n",
    "            done= False\n",
    "            info = \"Add Node S4\"\n",
    "        else: \n",
    "            print (\"action not defined\")\n",
    "            current_state = get_current_stat()\n",
    "            reward= -1\n",
    "            info = \"action not defined\"\n",
    "        if done: \n",
    "            reward = 1.0\n",
    "        elif self.steps_beyond_done is None:\n",
    "            #Adaptation Failed \n",
    "            reward = 1.0 \n",
    "            self.steps_beyond_done = 0\n",
    "        else: \n",
    "            if self.steps_beyond_done == 0:\n",
    "                logger.warn(\"You are calling 'step()' even though this environment has already returned done = True. You should always call 'reset()' once you receive 'done = True' -- any further steps are undefined behavior.\")\n",
    "                self.steps_beyond_done += 1\n",
    "                reward = 0.0\n",
    "        state = get_observation()\n",
    "        return np.array(self.state), reward, done, {}\n",
    "    def reset(self):\n",
    "        self.state = self.np_random.uniform(low=-0.05, high=0.05, size=(4,))\n",
    "        self.steps_beyond_done = None\n",
    "        return np.array(self.state)\n",
    "    def render(self, mode='human', close=False):\n",
    "        logger.warn(\"View is not allowed in this environment\")\n",
    "        return 0 \n",
    "    def close(self):\n",
    "        if self.viewer:\n",
    "            self.viewer.close()\n",
    "            self.viewer = None\n",
    "    def get_cpu_observation(self):\n",
    "        response = requests.get('http://192.168.99.100:8888/cpu', timeout=5)\n",
    "        results = response.json()\n",
    "        if len(results) > 0:\n",
    "                cpu = results['cpu']\n",
    "                prediction = results['prediction']\n",
    "                anomalyScore = results['anomalyScore']\n",
    "                anomalyLikelihood = results['anomalyLikelihood']\n",
    "                utility_cpu = results['utility_cpu']\n",
    "                cpu_axis=[cpu, prediction, anomalyScore, anomalyLikelihood, utility_cpu]\n",
    "        return np.array(cpu_axis) \n",
    "    def get_mem_observation(self):\n",
    "        response = requests.get('http://192.168.99.100:8888/mem', timeout=5)\n",
    "        results = response.json()\n",
    "        if len(results) > 0:\n",
    "            mem = results['mem']\n",
    "            prediction = results['prediction']\n",
    "            anomalyScore = results['anomalyScore']\n",
    "            anomalyLikelihood = results['anomalyLikelihood']\n",
    "            utility_mem = results['utility_mem']\n",
    "            #mem_axis=[mem, prediction, anomalyScore, anomalyLikelihood, utility_mem]    \n",
    "        mem_axis=[mem, prediction, anomalyScore, anomalyLikelihood, utility_mem]\n",
    "        return np.array(mem_axis) \n",
    "    def get_net_observation(self):\n",
    "        response = requests.get('http://192.168.99.100:8888/net', timeout=5)\n",
    "        results = response.json()\n",
    "        if len(results) > 0:\n",
    "            net = results['net']\n",
    "            prediction = results['prediction']\n",
    "            anomalyScore = results['anomalyScore']\n",
    "            anomalyLikelihood = results['anomalyLikelihood']\n",
    "            utility_net = results['utility_net']\n",
    "\n",
    "        net_axis=[net, prediction, anomalyScore, anomalyLikelihood, utility_net]\n",
    "        return np.array(net_axis) \n",
    "    def get_disk_observation(self):\n",
    "        response = requests.get('http://192.168.99.100:8888/disk', timeout=5)\n",
    "        if response is not None:\n",
    "            results = response.json()\n",
    "            if len(results) > 0:\n",
    "                disk = results['disk']\n",
    "                prediction = results['prediction']\n",
    "                anomalyScore = results['anomalyScore']\n",
    "                anomalyLikelihood = results['anomalyLikelihood']\n",
    "                utility_mem = results['utility_disk']\n",
    "                disk_axis=[disk, prediction, anomalyScore, anomalyLikelihood, utility_mem]\n",
    "        return np.array(disk_axis) \n",
    "    def get_current_stat():\n",
    "        current_state = get_observation()\n",
    "        cpu_fitnes  = np.dot(current_state[0, 0], current_state[0,3])/np.sum(current_state[0,3])\n",
    "        print (cpu_fitnes, 'cpu_fitnes')\n",
    "        mem_fitnes  = np.dot(current_state[1,0], current_state[1,3])/np.sum(current_state[1,3])\n",
    "        print ('mem_fitnes', mem_fitnes)\n",
    "        disk_fitnes  = np.dot(current_state[2,0],current_state[2,3])/np.sum(current_state[2,3])\n",
    "        print ('disk_fitnes', disk_fitnes)\n",
    "        net_fitnes  = np.dot(current_state[3, 0],current_state[3,3])/np.sum(current_state[3,3])\n",
    "        print ('net_fitnes', net_fitnes)\n",
    "        sum_utility =  cpu_fitnes+ mem_fitnes + disk_fitnes + net_fitnes \n",
    "        return sum_utility\n",
    "\n"
   ]
  },
  {
   "cell_type": "code",
   "execution_count": 12,
   "metadata": {},
   "outputs": [],
   "source": [
    "env = FooEnv()"
   ]
  },
  {
   "cell_type": "code",
   "execution_count": 13,
   "metadata": {},
   "outputs": [
    {
     "data": {
      "text/plain": [
       "Discrete(5)"
      ]
     },
     "execution_count": 13,
     "metadata": {},
     "output_type": "execute_result"
    }
   ],
   "source": [
    "env.action_space"
   ]
  },
  {
   "cell_type": "code",
   "execution_count": 14,
   "metadata": {},
   "outputs": [
    {
     "data": {
      "text/plain": [
       "array([-0.01544472, -0.02912054, -0.0308528 ,  0.02397059])"
      ]
     },
     "execution_count": 14,
     "metadata": {},
     "output_type": "execute_result"
    }
   ],
   "source": [
    "env.reset()"
   ]
  },
  {
   "cell_type": "code",
   "execution_count": 15,
   "metadata": {},
   "outputs": [
    {
     "name": "stdout",
     "output_type": "stream",
     "text": [
      "Scale Service UP S2\n"
     ]
    },
    {
     "ename": "NameError",
     "evalue": "name 'get_current_stat' is not defined",
     "output_type": "error",
     "traceback": [
      "\u001b[0;31m---------------------------------------------------------------------------\u001b[0m",
      "\u001b[0;31mNameError\u001b[0m                                 Traceback (most recent call last)",
      "\u001b[0;32m<ipython-input-15-8acd7a1d9721>\u001b[0m in \u001b[0;36m<module>\u001b[0;34m\u001b[0m\n\u001b[0;32m----> 1\u001b[0;31m \u001b[0menv\u001b[0m\u001b[0;34m.\u001b[0m\u001b[0mstep\u001b[0m\u001b[0;34m(\u001b[0m\u001b[0;36m1\u001b[0m\u001b[0;34m)\u001b[0m\u001b[0;34m\u001b[0m\u001b[0m\n\u001b[0m",
      "\u001b[0;32m<ipython-input-11-943b313662ea>\u001b[0m in \u001b[0;36mstep\u001b[0;34m(self, action)\u001b[0m\n\u001b[1;32m     51\u001b[0m         \u001b[0;32melif\u001b[0m \u001b[0maction\u001b[0m \u001b[0;34m==\u001b[0m \u001b[0;36m1\u001b[0m\u001b[0;34m:\u001b[0m\u001b[0;34m\u001b[0m\u001b[0m\n\u001b[1;32m     52\u001b[0m             \u001b[0mprint\u001b[0m\u001b[0;34m(\u001b[0m\u001b[0;34m\"Scale Service UP S2\"\u001b[0m\u001b[0;34m)\u001b[0m\u001b[0;34m\u001b[0m\u001b[0m\n\u001b[0;32m---> 53\u001b[0;31m             \u001b[0mcurrent_state\u001b[0m \u001b[0;34m=\u001b[0m \u001b[0mget_current_stat\u001b[0m\u001b[0;34m(\u001b[0m\u001b[0;34m)\u001b[0m\u001b[0;34m\u001b[0m\u001b[0m\n\u001b[0m\u001b[1;32m     54\u001b[0m             \u001b[0mreward\u001b[0m\u001b[0;34m=\u001b[0m \u001b[0mcurrent_state\u001b[0m \u001b[0;34m-\u001b[0m \u001b[0mpast_stat\u001b[0m\u001b[0;34m\u001b[0m\u001b[0m\n\u001b[1;32m     55\u001b[0m             \u001b[0mdone\u001b[0m\u001b[0;34m=\u001b[0m \u001b[0;32mFalse\u001b[0m\u001b[0;34m\u001b[0m\u001b[0m\n",
      "\u001b[0;31mNameError\u001b[0m: name 'get_current_stat' is not defined"
     ]
    }
   ],
   "source": [
    "env.step(1)"
   ]
  },
  {
   "cell_type": "code",
   "execution_count": null,
   "metadata": {},
   "outputs": [],
   "source": []
  }
 ],
 "metadata": {
  "kernelspec": {
   "display_name": "Python 3",
   "language": "python",
   "name": "python3"
  },
  "language_info": {
   "codemirror_mode": {
    "name": "ipython",
    "version": 3
   },
   "file_extension": ".py",
   "mimetype": "text/x-python",
   "name": "python",
   "nbconvert_exporter": "python",
   "pygments_lexer": "ipython3",
   "version": "3.6.6"
  }
 },
 "nbformat": 4,
 "nbformat_minor": 2
}
